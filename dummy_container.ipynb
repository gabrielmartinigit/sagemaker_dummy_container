{
 "cells": [
  {
   "cell_type": "markdown",
   "metadata": {},
   "source": [
    "# Criando uma imagem de container customizada para o SageMaker"
   ]
  },
  {
   "cell_type": "markdown",
   "metadata": {},
   "source": [
    "## Especifique a sua imagem de container"
   ]
  },
  {
   "cell_type": "markdown",
   "metadata": {},
   "source": [
    "### Como o Amazon SageMaker executa o seu container\n",
    "\n",
    "Como você pode executar a mesma imagem no treinamento ou na hospedagem, o Amazon SageMaker executa o seu container com o argumento `train` ou `serve`. Como o container processa esse argumento depende da sua implementação:\n",
    "\n",
    "* No exemplo aqui, não definimos um `ENTRYPOINT` no Dockerfile, portanto o SageMaker executará o comando `train` no momento do treinamento e `serve` no momento da hospedagem. Neste exemplo, definimos esses comandos como scripts executáveis em Python, mas poderiam ser qualquer programa que desejamos iniciar nesse ambiente.\n",
    "* Se você especificar um programa como um `ENTRYPOINT` no Dockerfile, esse programa será executado na inicialização e o seu primeiro argumento será `train` ou `serve`. O programa pode então verificar esse argumento e decidir o que fazer.\n",
    "* Se você estiver criando containers separados para treinamento e hospedagem (ou criando apenas para um deles), você pode definir um programa como um `ENTRYPOINT` no Dockerfile e ignorar (ou verificar) o primeiro argumento passado."
   ]
  },
  {
   "cell_type": "code",
   "execution_count": 38,
   "metadata": {},
   "outputs": [
    {
     "name": "stdout",
     "output_type": "stream",
     "text": [
      "FROM ubuntu:18.04\n",
      "\n",
      "RUN apt-get -y update && apt-get install -y --no-install-recommends \\\n",
      "         wget \\\n",
      "         python3-pip \\\n",
      "         python3-setuptools \\\n",
      "         nginx \\\n",
      "         ca-certificates \\\n",
      "    && rm -rf /var/lib/apt/lists/*\n",
      "\n",
      "RUN ln -s /usr/bin/python3 /usr/bin/python\n",
      "RUN ln -s /usr/bin/pip3 /usr/bin/pip\n",
      "\n",
      "RUN pip --no-cache-dir install boto3 numpy==1.16.2 scipy==1.2.1 scikit-learn==0.20.2 pandas flask gunicorn\n",
      "\n",
      "ENV PYTHONUNBUFFERED=TRUE\n",
      "ENV PYTHONDONTWRITEBYTECODE=TRUE\n",
      "ENV PATH=\"/opt/program:${PATH}\"\n",
      "\n",
      "COPY dummy /opt/program\n",
      "WORKDIR /opt/program\n"
     ]
    }
   ],
   "source": [
    "!cat container/Dockerfile"
   ]
  },
  {
   "cell_type": "markdown",
   "metadata": {},
   "source": [
    "### Efetuando o build da imagem e push para o [Amazon Elastic Container Registry](https://aws.amazon.com/pt/ecr/)"
   ]
  },
  {
   "cell_type": "code",
   "execution_count": 40,
   "metadata": {
    "scrolled": true
   },
   "outputs": [
    {
     "name": "stderr",
     "output_type": "stream",
     "text": [
      "#1 [internal] load build definition from Dockerfile\n",
      "#1 sha256:aab511f59e57e986a282963b32585c7edb02d5ac4e795d4e8f0dbd43fc92ae84\n",
      "#1 transferring dockerfile: 121B 0.0s done\n",
      "#1 DONE 0.1s\n",
      "\n",
      "#2 [internal] load .dockerignore\n",
      "#2 sha256:a54ec23d5a0802fde75c2789be3b5d14cd78b686ab827af992ee68e83e004fe2\n",
      "#2 transferring context: 2B done\n",
      "#2 DONE 0.0s\n",
      "\n",
      "#3 [internal] load metadata for docker.io/library/ubuntu:18.04\n",
      "#3 sha256:ae46bbb1b755529d0da663ca0256a22acd7c9fe21844946c149800baa67c4e4b\n",
      "#3 DONE 2.5s\n",
      "\n",
      "#4 [1/7] FROM docker.io/library/ubuntu:18.04@sha256:152dc042452c496007f07ca9127571cb9c29697f42acbfad72324b2bb2e43c98\n",
      "#4 sha256:0874120c9a032c9cafa396e6559d095de2b8b000b243455626d71bbf8a51cdb3\n",
      "#4 DONE 0.0s\n",
      "\n",
      "#9 [internal] load build context\n",
      "#9 sha256:4e275aca27f5754f9c438b034929c19643d14a074ad369b137df0f58a0ff6d72\n",
      "#9 transferring context: 3.92kB done\n",
      "#9 DONE 0.0s\n",
      "\n",
      "#6 [3/7] RUN ln -s /usr/bin/python3 /usr/bin/python\n",
      "#6 sha256:3f837c0dca010b7fc9dbc346c55b1f366559c55b9a1a7ff3a75c707a06cccecd\n",
      "#6 CACHED\n",
      "\n",
      "#7 [4/7] RUN ln -s /usr/bin/pip3 /usr/bin/pip\n",
      "#7 sha256:f8f827c0772e6b9f782008857d0b9b25ce1b432d195524bd44ada457eafad086\n",
      "#7 CACHED\n",
      "\n",
      "#5 [2/7] RUN apt-get -y update && apt-get install -y --no-install-recommends          wget          python3-pip          python3-setuptools          nginx          ca-certificates     && rm -rf /var/lib/apt/lists/*\n",
      "#5 sha256:3cfdae6662ab96103e944a7ed4486450fce72c80c9b680367c2d3c3156ccfe95\n",
      "#5 CACHED\n",
      "\n",
      "#8 [5/7] RUN pip --no-cache-dir install boto3 numpy==1.16.2 scipy==1.2.1 scikit-learn==0.20.2 pandas flask gunicorn\n",
      "#8 sha256:981ede1f5e62be090fe356dd20d1269d19bac37cb75d774896f0d7f98537902f\n",
      "#8 CACHED\n",
      "\n",
      "#10 [6/7] COPY dummy /opt/program\n",
      "#10 sha256:f50b1f0e4c36bb4afffcf3d297a083fa41bbbd523e39890bf09686af29384e28\n",
      "#10 DONE 0.0s\n",
      "\n",
      "#11 [7/7] WORKDIR /opt/program\n",
      "#11 sha256:de7859849d6aa590ca62d223a81d275e63c4bd8161705e32cc59b715c5c686f0\n",
      "#11 DONE 0.0s\n",
      "\n",
      "#12 exporting to image\n",
      "#12 sha256:e8c613e07b0b7ff33893b694f7759a10d42e180f2b4dc349fb57dc6b71dcab00\n",
      "#12 exporting layers 0.0s done\n",
      "#12 writing image sha256:142454e6bb0457d7150810e8870d6e9851b021f5bc528b60b111a8268e2669da done\n",
      "#12 naming to docker.io/library/sagemaker-dummy done\n",
      "#12 DONE 0.0s\n",
      "\n",
      "Use 'docker scan' to run Snyk tests against images to find vulnerabilities and learn how to fix them\n"
     ]
    },
    {
     "name": "stdout",
     "output_type": "stream",
     "text": [
      "Login Succeeded\n",
      "The push refers to repository [163701031472.dkr.ecr.us-east-1.amazonaws.com/sagemaker-dummy]\n",
      "5f70bf18a086: Preparing\n",
      "68ce0b97498a: Preparing\n",
      "720449616670: Preparing\n",
      "08092c284113: Preparing\n",
      "260368bf0952: Preparing\n",
      "12b23572dd9e: Preparing\n",
      "548a79621a42: Preparing\n",
      "12b23572dd9e: Waiting\n",
      "548a79621a42: Waiting\n",
      "08092c284113: Layer already exists\n",
      "720449616670: Layer already exists\n",
      "5f70bf18a086: Layer already exists\n",
      "12b23572dd9e: Layer already exists\n",
      "548a79621a42: Layer already exists\n",
      "260368bf0952: Layer already exists\n",
      "68ce0b97498a: Pushed\n",
      "latest: digest: sha256:5a862cb80dc9baf91adf03056d840e6521ef320d42d69d919daa526019c41f27 size: 1781\n"
     ]
    }
   ],
   "source": [
    "%%sh\n",
    "\n",
    "# Nome da imagem\n",
    "algorithm_name=sagemaker-dummy\n",
    "\n",
    "cd container\n",
    "\n",
    "chmod +x dummy/train\n",
    "chmod +x dummy/serve\n",
    "\n",
    "account=$(aws sts get-caller-identity --query Account --output text)\n",
    "\n",
    "# Define a região padrão como us-east-1 caso não especificada na configuração do AWS CLI\n",
    "region=$(aws configure get region)\n",
    "region=${region:-us-east-1}\n",
    "\n",
    "# Verifique se já existe um repositório no ECR\n",
    "fullname=\"${account}.dkr.ecr.${region}.amazonaws.com/${algorithm_name}:latest\"\n",
    "aws ecr describe-repositories --repository-names \"${algorithm_name}\" > /dev/null 2>&1\n",
    "\n",
    "if [ $? -ne 0 ]\n",
    "then\n",
    "    aws ecr create-repository --repository-name \"${algorithm_name}\" > /dev/null\n",
    "fi\n",
    "\n",
    "# Efetua o build da imagem localmente\n",
    "docker build  -t ${algorithm_name} .\n",
    "docker tag ${algorithm_name} ${fullname}\n",
    "\n",
    "# Envia imagem para o ECR\n",
    "aws ecr get-login-password --region ${region}|docker login --username AWS --password-stdin ${fullname}\n",
    "docker push ${fullname}"
   ]
  },
  {
   "cell_type": "markdown",
   "metadata": {},
   "source": [
    "## Testando local ou no notebook do SageMaker Studio\n",
    "\n",
    "No diretório `container/local_test` há alguns scripts para testar local.\n",
    "\n",
    "Os scripts são:\n",
    "* `train_local.sh`: Execute este script com o nome da imagem e ele executará o treinamento localmente. Por exemplo, você pode executar `$ ./train_local.sh sagemaker-dummy`. Ele gerará um modelo no diretório `/test_dir/model`. Você precisará modificar o diretório `test_dir/input/data/...` para configurá-lo com os canais e dados corretos para o seu algoritmo. Além disso, você deverá modificar o arquivo `input/config/hyperparameters.json` para definir as configurações de hiperparâmetros que deseja testar.\n",
    "* `serve_local.sh`: Execute este script com o nome da imagem depois de treinar o modelo e ele deverá servir o modelo. Por exemplo, você pode executar `$ ./serve_local.sh sagemaker-dummy`. Ele será executado e aguardará por solicitações. Basta interrompê-lo usando o comando de interrupção do teclado.\n",
    "* `predict.sh`: Execute este script com o nome de um arquivo (payload) e (opcionalmente) o tipo de conteúdo HTTP desejado. O tipo de conteúdo será definido como `text/csv` por padrão. Por exemplo, você pode executar `$ ./predict.sh payload.csv text/csv`."
   ]
  },
  {
   "cell_type": "markdown",
   "metadata": {},
   "source": [
    "## Usando a imagem no SageMaker"
   ]
  },
  {
   "cell_type": "code",
   "execution_count": 42,
   "metadata": {},
   "outputs": [
    {
     "name": "stderr",
     "output_type": "stream",
     "text": [
      "INFO:botocore.credentials:Found credentials in shared credentials file: ~/.aws/credentials\n"
     ]
    }
   ],
   "source": [
    "import boto3\n",
    "import sagemaker as sage\n",
    "\n",
    "role = \"CRIAR_ROLE_PARA_O_SAGEMAKER\"\n",
    "sess = sage.Session()"
   ]
  },
  {
   "cell_type": "markdown",
   "metadata": {},
   "source": [
    "### Criando um estimator com a imagem customizada\n",
    "\n",
    "https://sagemaker.readthedocs.io/en/stable/api/training/estimators.html"
   ]
  },
  {
   "cell_type": "code",
   "execution_count": 43,
   "metadata": {},
   "outputs": [
    {
     "name": "stderr",
     "output_type": "stream",
     "text": [
      "INFO:sagemaker:Creating training-job with name: sagemaker-dummy-2023-08-16-21-47-34-498\n"
     ]
    },
    {
     "name": "stdout",
     "output_type": "stream",
     "text": [
      "2023-08-16 21:47:35 Starting - Starting the training job...\n",
      "2023-08-16 21:47:51 Starting - Preparing the instances for training......\n",
      "2023-08-16 21:49:09 Downloading - Downloading input data\n",
      "2023-08-16 21:49:09 Training - Training image download completed. Training in progress....\n",
      "2023-08-16 21:49:30 Uploading - Uploading generated training model\n",
      "2023-08-16 21:49:30 Completed - Training job completed\n",
      "..Training seconds: 42\n",
      "Billable seconds: 42\n"
     ]
    }
   ],
   "source": [
    "account = sess.boto_session.client(\"sts\").get_caller_identity()[\"Account\"]\n",
    "region = sess.boto_session.region_name\n",
    "algorithm_name = \"sagemaker-dummy\"\n",
    "image = \"{}.dkr.ecr.{}.amazonaws.com/{}:latest\".format(account, region, algorithm_name)\n",
    "\n",
    "dummy = sage.estimator.Estimator(\n",
    "    image,\n",
    "    role,\n",
    "    1,\n",
    "    \"ml.c5.2xlarge\",\n",
    "    output_path=\"s3://{}/output\".format(sess.default_bucket()),\n",
    "    sagemaker_session=sess\n",
    ")\n",
    "\n",
    "dummy.fit(data_location)"
   ]
  },
  {
   "cell_type": "code",
   "execution_count": 44,
   "metadata": {
    "scrolled": true
   },
   "outputs": [
    {
     "data": {
      "text/plain": [
       "{'TrainingJobName': 'sagemaker-dummy-2023-08-16-21-47-34-498',\n",
       " 'TrainingJobArn': 'arn:aws:sagemaker:us-east-1:163701031472:training-job/sagemaker-dummy-2023-08-16-21-47-34-498',\n",
       " 'ModelArtifacts': {'S3ModelArtifacts': 's3://sagemaker-us-east-1-163701031472/output/sagemaker-dummy-2023-08-16-21-47-34-498/output/model.tar.gz'},\n",
       " 'TrainingJobStatus': 'Completed',\n",
       " 'SecondaryStatus': 'Completed',\n",
       " 'AlgorithmSpecification': {'TrainingImage': '163701031472.dkr.ecr.us-east-1.amazonaws.com/sagemaker-dummy:latest',\n",
       "  'TrainingInputMode': 'File',\n",
       "  'EnableSageMakerMetricsTimeSeries': False},\n",
       " 'RoleArn': 'arn:aws:iam::163701031472:role/sagemaker-role',\n",
       " 'InputDataConfig': [{'ChannelName': 'training',\n",
       "   'DataSource': {'S3DataSource': {'S3DataType': 'S3Prefix',\n",
       "     'S3Uri': 's3://sagemaker-us-east-1-163701031472/DEMO-dummy',\n",
       "     'S3DataDistributionType': 'FullyReplicated'}},\n",
       "   'CompressionType': 'None',\n",
       "   'RecordWrapperType': 'None'}],\n",
       " 'OutputDataConfig': {'KmsKeyId': '',\n",
       "  'S3OutputPath': 's3://sagemaker-us-east-1-163701031472/output',\n",
       "  'CompressionType': 'GZIP'},\n",
       " 'ResourceConfig': {'InstanceType': 'ml.c5.2xlarge',\n",
       "  'InstanceCount': 1,\n",
       "  'VolumeSizeInGB': 30},\n",
       " 'StoppingCondition': {'MaxRuntimeInSeconds': 86400},\n",
       " 'CreationTime': datetime.datetime(2023, 8, 16, 18, 47, 35, 351000, tzinfo=tzlocal()),\n",
       " 'TrainingStartTime': datetime.datetime(2023, 8, 16, 18, 48, 48, 577000, tzinfo=tzlocal()),\n",
       " 'TrainingEndTime': datetime.datetime(2023, 8, 16, 18, 49, 30, 221000, tzinfo=tzlocal()),\n",
       " 'LastModifiedTime': datetime.datetime(2023, 8, 16, 18, 49, 30, 551000, tzinfo=tzlocal()),\n",
       " 'SecondaryStatusTransitions': [{'Status': 'Starting',\n",
       "   'StartTime': datetime.datetime(2023, 8, 16, 18, 47, 35, 351000, tzinfo=tzlocal()),\n",
       "   'EndTime': datetime.datetime(2023, 8, 16, 18, 48, 48, 577000, tzinfo=tzlocal()),\n",
       "   'StatusMessage': 'Preparing the instances for training'},\n",
       "  {'Status': 'Downloading',\n",
       "   'StartTime': datetime.datetime(2023, 8, 16, 18, 48, 48, 577000, tzinfo=tzlocal()),\n",
       "   'EndTime': datetime.datetime(2023, 8, 16, 18, 49, 9, 10000, tzinfo=tzlocal()),\n",
       "   'StatusMessage': 'Downloading input data'},\n",
       "  {'Status': 'Training',\n",
       "   'StartTime': datetime.datetime(2023, 8, 16, 18, 49, 9, 10000, tzinfo=tzlocal()),\n",
       "   'EndTime': datetime.datetime(2023, 8, 16, 18, 49, 19, 776000, tzinfo=tzlocal()),\n",
       "   'StatusMessage': 'Training image download completed. Training in progress.'},\n",
       "  {'Status': 'Uploading',\n",
       "   'StartTime': datetime.datetime(2023, 8, 16, 18, 49, 19, 776000, tzinfo=tzlocal()),\n",
       "   'EndTime': datetime.datetime(2023, 8, 16, 18, 49, 30, 221000, tzinfo=tzlocal()),\n",
       "   'StatusMessage': 'Uploading generated training model'},\n",
       "  {'Status': 'Completed',\n",
       "   'StartTime': datetime.datetime(2023, 8, 16, 18, 49, 30, 221000, tzinfo=tzlocal()),\n",
       "   'EndTime': datetime.datetime(2023, 8, 16, 18, 49, 30, 221000, tzinfo=tzlocal()),\n",
       "   'StatusMessage': 'Training job completed'}],\n",
       " 'EnableNetworkIsolation': False,\n",
       " 'EnableInterContainerTrafficEncryption': False,\n",
       " 'EnableManagedSpotTraining': False,\n",
       " 'TrainingTimeInSeconds': 42,\n",
       " 'BillableTimeInSeconds': 42,\n",
       " 'DebugHookConfig': {'S3OutputPath': 's3://sagemaker-us-east-1-163701031472/output',\n",
       "  'CollectionConfigurations': []},\n",
       " 'ProfilerConfig': {'S3OutputPath': 's3://sagemaker-us-east-1-163701031472/output',\n",
       "  'ProfilingIntervalInMilliseconds': 500,\n",
       "  'DisableProfiler': False},\n",
       " 'ProfilingStatus': 'Enabled',\n",
       " 'ResponseMetadata': {'RequestId': '045d9b18-af35-48da-8111-4b8408b8b2a1',\n",
       "  'HTTPStatusCode': 200,\n",
       "  'HTTPHeaders': {'x-amzn-requestid': '045d9b18-af35-48da-8111-4b8408b8b2a1',\n",
       "   'content-type': 'application/x-amz-json-1.1',\n",
       "   'content-length': '2668',\n",
       "   'date': 'Wed, 16 Aug 2023 21:51:48 GMT'},\n",
       "  'RetryAttempts': 0}}"
      ]
     },
     "execution_count": 44,
     "metadata": {},
     "output_type": "execute_result"
    }
   ],
   "source": [
    "training_job_id = \"JOB_NAME_DO_ULTIMO_TREINO\"\n",
    "training_job = sess.describe_training_job(training_job_id)\n",
    "training_job"
   ]
  },
  {
   "cell_type": "markdown",
   "metadata": {},
   "source": [
    "## Deploy do modelo treinado com a imagem customizada"
   ]
  },
  {
   "cell_type": "code",
   "execution_count": 48,
   "metadata": {},
   "outputs": [
    {
     "name": "stderr",
     "output_type": "stream",
     "text": [
      "INFO:botocore.credentials:Found credentials in shared credentials file: ~/.aws/credentials\n"
     ]
    },
    {
     "name": "stdout",
     "output_type": "stream",
     "text": [
      "\n",
      "2023-08-16 21:49:30 Starting - Preparing the instances for training\n",
      "2023-08-16 21:49:30 Downloading - Downloading input data\n",
      "2023-08-16 21:49:30 Training - Training image download completed. Training in progress.\n",
      "2023-08-16 21:49:30 Uploading - Uploading generated training model\n",
      "2023-08-16 21:49:30 Completed - Training job completed\n"
     ]
    },
    {
     "name": "stderr",
     "output_type": "stream",
     "text": [
      "INFO:sagemaker:Creating model with name: sagemaker-dummy-2023-08-16-21-56-39-173\n",
      "INFO:sagemaker:Creating endpoint-config with name sagemaker-dummy-2023-08-16-21-56-39-173\n",
      "INFO:sagemaker:Creating endpoint with name sagemaker-dummy-2023-08-16-21-56-39-173\n"
     ]
    },
    {
     "name": "stdout",
     "output_type": "stream",
     "text": [
      "---!"
     ]
    }
   ],
   "source": [
    "# Caso esteja na mesma sessão que o treinamento podemos utilizar o próprio objeto do estimator para fazer o deploy\n",
    "# Carregando os dados do estimator caso saia da sessão\n",
    "dummy = sage.estimator.Estimator.attach(training_job_id)\n",
    "predictor = dummy.deploy(initial_instance_count=1, instance_type=\"ml.m5.xlarge\")"
   ]
  },
  {
   "cell_type": "code",
   "execution_count": 50,
   "metadata": {},
   "outputs": [
    {
     "data": {
      "text/plain": [
       "b'teste dummy'"
      ]
     },
     "execution_count": 50,
     "metadata": {},
     "output_type": "execute_result"
    }
   ],
   "source": [
    "predictor.predict(\"test\")"
   ]
  }
 ],
 "metadata": {
  "kernelspec": {
   "display_name": "Python 3 (ipykernel)",
   "language": "python",
   "name": "python3"
  },
  "language_info": {
   "codemirror_mode": {
    "name": "ipython",
    "version": 3
   },
   "file_extension": ".py",
   "mimetype": "text/x-python",
   "name": "python",
   "nbconvert_exporter": "python",
   "pygments_lexer": "ipython3",
   "version": "3.8.8"
  }
 },
 "nbformat": 4,
 "nbformat_minor": 4
}
